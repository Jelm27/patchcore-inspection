{
 "cells": [
  {
   "cell_type": "code",
   "execution_count": 2,
   "metadata": {},
   "outputs": [
    {
     "name": "stdout",
     "output_type": "stream",
     "text": [
      "INFO:__main__:Command line arguments: bin/run_patchcore.py\n",
      "Usage: run_patchcore.py [OPTIONS] RESULTS_PATH COMMAND1 [ARGS]... [COMMAND2\n",
      "                        [ARGS]...]...\n",
      "\n",
      "Options:\n",
      "  --gpu INTEGER               [default: 0]\n",
      "  --seed INTEGER              [default: 0]\n",
      "  --log_group TEXT\n",
      "  --log_project TEXT\n",
      "  --save_segmentation_images\n",
      "  --save_patchcore_model\n",
      "  --help                      Show this message and exit.\n",
      "\n",
      "Commands:\n",
      "  dataset\n",
      "  patch_core\n",
      "  sampler\n"
     ]
    }
   ],
   "source": [
    "!env PYTHONPATH=src python bin/run_patchcore.py"
   ]
  },
  {
   "cell_type": "code",
   "execution_count": null,
   "metadata": {},
   "outputs": [],
   "source": []
  }
 ],
 "metadata": {
  "kernelspec": {
   "display_name": "patch_1",
   "language": "python",
   "name": "python3"
  },
  "language_info": {
   "codemirror_mode": {
    "name": "ipython",
    "version": 3
   },
   "file_extension": ".py",
   "mimetype": "text/x-python",
   "name": "python",
   "nbconvert_exporter": "python",
   "pygments_lexer": "ipython3",
   "version": "3.8.18"
  }
 },
 "nbformat": 4,
 "nbformat_minor": 2
}
